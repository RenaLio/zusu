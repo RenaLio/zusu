{
 "cells": [
  {
   "cell_type": "code",
   "execution_count": 1,
   "metadata": {},
   "outputs": [
    {
     "name": "stdout",
     "output_type": "stream",
     "text": [
      "*.*.com\n"
     ]
    }
   ],
   "source": [
    "import urllib\n",
    "url = 'https://api.douban.com/v2/book/2129650'\n",
    "def get_domain_by_urllib(u):\n",
    "    return urllib.parse.urlparse(u).netloc\n",
    "domain = get_domain_by_urllib(url)\n",
    "s = domain.split('.')\n",
    "num = len(s)\n",
    "taskname = ''\n",
    "for i in range(num-1):\n",
    "    taskname = taskname+'*.'\n",
    "taskname = taskname+s[-1]\n",
    "print(taskname)"
   ]
  }
 ],
 "metadata": {
  "kernelspec": {
   "display_name": "Python 3.9.9 ('爬虫-M1hG6_90-py3.9')",
   "language": "python",
   "name": "python3"
  },
  "language_info": {
   "codemirror_mode": {
    "name": "ipython",
    "version": 3
   },
   "file_extension": ".py",
   "mimetype": "text/x-python",
   "name": "python",
   "nbconvert_exporter": "python",
   "pygments_lexer": "ipython3",
   "version": "3.9.9"
  },
  "orig_nbformat": 4,
  "vscode": {
   "interpreter": {
    "hash": "3491887311e93dbad84335e02dcdcdb337d8a5f352a87d1b19bb888df67164c0"
   }
  }
 },
 "nbformat": 4,
 "nbformat_minor": 2
}
